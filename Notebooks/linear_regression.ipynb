{
 "cells": [
  {
   "cell_type": "code",
    
   "execution_count": 1,

   "id": "7e7a657c",
   "metadata": {},
   "outputs": [],
   "source": [
    "import numpy as np\n",
    "import pandas as pd\n",
    "from pathlib import Path\n",
    "from collections import Counter\n",
    "import matplotlib.pyplot as plt\n",
    "from sklearn.linear_model import LinearRegression\n",
    "from sklearn.model_selection import train_test_split\n",
    "from sklearn import tree\n",
    "from sklearn.metrics import balanced_accuracy_score\n",
    "from sklearn.metrics import confusion_matrix\n",
    "from imblearn.metrics import classification_report_imbalanced\n",
    "from sklearn.preprocessing import StandardScaler\n",
    "from sklearn.datasets import make_classification\n",
    "from imblearn.over_sampling import RandomOverSampler\n",
    "from imblearn.ensemble import BalancedRandomForestClassifier"
   ]
  },
  {
   "cell_type": "code",

   "execution_count": 2,
    
   "id": "d132e9b5",
   "metadata": {},
   "outputs": [],
   "source": [
    "columns = [\n",
    "    'movie_id', 'title', 'release_date', 'movie_popularity', \n",
    "    'vote_average', 'vote_count', 'budget', 'revenue', 'ratings', 'genres',\n",
    "    'studios', 'actor_popularity_mean', 'director_popularity_mean'\n",
    "]\n",
    "\n",
    "target = ['revenue']"
   ]
  },
  {
   "cell_type": "code",

   "execution_count": 3,
   "id": "c3843340",
   "metadata": {},
   "outputs": [
    {
     "data": {
      "text/html": [
       "<div>\n",
       "<style scoped>\n",
       "    .dataframe tbody tr th:only-of-type {\n",
       "        vertical-align: middle;\n",
       "    }\n",
       "\n",
       "    .dataframe tbody tr th {\n",
       "        vertical-align: top;\n",
       "    }\n",
       "\n",
       "    .dataframe thead th {\n",
       "        text-align: right;\n",
       "    }\n",
       "</style>\n",
       "<table border=\"1\" class=\"dataframe\">\n",
       "  <thead>\n",
       "    <tr style=\"text-align: right;\">\n",
       "      <th></th>\n",
       "      <th>movie_id</th>\n",
       "      <th>title</th>\n",
       "      <th>genre_ids</th>\n",
       "      <th>release_date</th>\n",
       "      <th>movie_popularity</th>\n",
       "      <th>vote_average</th>\n",
       "      <th>vote_count</th>\n",
       "      <th>budget</th>\n",
       "      <th>revenue</th>\n",
       "      <th>rating</th>\n",
       "    </tr>\n",
       "  </thead>\n",
       "  <tbody>\n",
       "    <tr>\n",
       "      <th>0</th>\n",
       "      <td>566525</td>\n",
       "      <td>Shang-Chi and the Legend of the Ten Rings</td>\n",
       "      <td>[28, 12, 14]</td>\n",
       "      <td>2021-09-01</td>\n",
       "      <td>5884.885</td>\n",
       "      <td>7.9</td>\n",
       "      <td>3428</td>\n",
       "      <td>150000000</td>\n",
       "      <td>430238384</td>\n",
       "      <td>PG-13</td>\n",
       "    </tr>\n",
       "    <tr>\n",
       "      <th>1</th>\n",
       "      <td>580489</td>\n",
       "      <td>Venom: Let There Be Carnage</td>\n",
       "      <td>[878, 28, 12]</td>\n",
       "      <td>2021-09-30</td>\n",
       "      <td>5797.863</td>\n",
       "      <td>7.0</td>\n",
       "      <td>2452</td>\n",
       "      <td>110000000</td>\n",
       "      <td>454000000</td>\n",
       "      <td>PG-13</td>\n",
       "    </tr>\n",
       "    <tr>\n",
       "      <th>2</th>\n",
       "      <td>370172</td>\n",
       "      <td>No Time to Die</td>\n",
       "      <td>[12, 28, 53]</td>\n",
       "      <td>2021-09-29</td>\n",
       "      <td>3366.389</td>\n",
       "      <td>7.6</td>\n",
       "      <td>2075</td>\n",
       "      <td>242000000</td>\n",
       "      <td>734000000</td>\n",
       "      <td>PG-13</td>\n",
       "    </tr>\n",
       "    <tr>\n",
       "      <th>3</th>\n",
       "      <td>524434</td>\n",
       "      <td>Eternals</td>\n",
       "      <td>[28, 12, 878]</td>\n",
       "      <td>2021-11-03</td>\n",
       "      <td>1746.171</td>\n",
       "      <td>7.1</td>\n",
       "      <td>1170</td>\n",
       "      <td>200000000</td>\n",
       "      <td>336000000</td>\n",
       "      <td>PG-13</td>\n",
       "    </tr>\n",
       "    <tr>\n",
       "      <th>4</th>\n",
       "      <td>744275</td>\n",
       "      <td>After We Fell</td>\n",
       "      <td>[10749, 18]</td>\n",
       "      <td>2021-09-01</td>\n",
       "      <td>1710.038</td>\n",
       "      <td>7.2</td>\n",
       "      <td>956</td>\n",
       "      <td>14000000</td>\n",
       "      <td>19000000</td>\n",
       "      <td>R</td>\n",
       "    </tr>\n",
       "    <tr>\n",
       "      <th>...</th>\n",
       "      <td>...</td>\n",
       "      <td>...</td>\n",
       "      <td>...</td>\n",
       "      <td>...</td>\n",
       "      <td>...</td>\n",
       "      <td>...</td>\n",
       "      <td>...</td>\n",
       "      <td>...</td>\n",
       "      <td>...</td>\n",
       "      <td>...</td>\n",
       "    </tr>\n",
       "    <tr>\n",
       "      <th>69</th>\n",
       "      <td>303857</td>\n",
       "      <td>Dragon Ball Z: Resurrection 'F'</td>\n",
       "      <td>[28, 16, 878]</td>\n",
       "      <td>2015-04-18</td>\n",
       "      <td>192.039</td>\n",
       "      <td>6.8</td>\n",
       "      <td>1246</td>\n",
       "      <td>5000000</td>\n",
       "      <td>61768190</td>\n",
       "      <td>NR</td>\n",
       "    </tr>\n",
       "    <tr>\n",
       "      <th>70</th>\n",
       "      <td>565028</td>\n",
       "      <td>Candyman</td>\n",
       "      <td>[27, 53]</td>\n",
       "      <td>2021-08-25</td>\n",
       "      <td>188.391</td>\n",
       "      <td>6.3</td>\n",
       "      <td>615</td>\n",
       "      <td>25000000</td>\n",
       "      <td>77389310</td>\n",
       "      <td>R</td>\n",
       "    </tr>\n",
       "    <tr>\n",
       "      <th>71</th>\n",
       "      <td>400160</td>\n",
       "      <td>The SpongeBob Movie: Sponge on the Run</td>\n",
       "      <td>[10751, 16, 14, 12, 35]</td>\n",
       "      <td>2020-08-14</td>\n",
       "      <td>186.863</td>\n",
       "      <td>7.7</td>\n",
       "      <td>2351</td>\n",
       "      <td>60000000</td>\n",
       "      <td>4700000</td>\n",
       "      <td>PG</td>\n",
       "    </tr>\n",
       "    <tr>\n",
       "      <th>72</th>\n",
       "      <td>72545</td>\n",
       "      <td>Journey 2: The Mysterious Island</td>\n",
       "      <td>[12, 28, 878]</td>\n",
       "      <td>2012-01-19</td>\n",
       "      <td>185.102</td>\n",
       "      <td>6.1</td>\n",
       "      <td>3312</td>\n",
       "      <td>79000000</td>\n",
       "      <td>355692760</td>\n",
       "      <td>PG</td>\n",
       "    </tr>\n",
       "    <tr>\n",
       "      <th>73</th>\n",
       "      <td>15092</td>\n",
       "      <td>Crank: High Voltage</td>\n",
       "      <td>[28, 53, 80]</td>\n",
       "      <td>2009-04-16</td>\n",
       "      <td>177.734</td>\n",
       "      <td>6.0</td>\n",
       "      <td>2132</td>\n",
       "      <td>20000000</td>\n",
       "      <td>34560577</td>\n",
       "      <td>R</td>\n",
       "    </tr>\n",
       "  </tbody>\n",
       "</table>\n",
       "<p>74 rows × 10 columns</p>\n",
       "</div>"
      ],
      "text/plain": [
       "    movie_id                                      title  \\\n",
       "0     566525  Shang-Chi and the Legend of the Ten Rings   \n",
       "1     580489                Venom: Let There Be Carnage   \n",
       "2     370172                             No Time to Die   \n",
       "3     524434                                   Eternals   \n",
       "4     744275                              After We Fell   \n",
       "..       ...                                        ...   \n",
       "69    303857            Dragon Ball Z: Resurrection 'F'   \n",
       "70    565028                                   Candyman   \n",
       "71    400160     The SpongeBob Movie: Sponge on the Run   \n",
       "72     72545           Journey 2: The Mysterious Island   \n",
       "73     15092                        Crank: High Voltage   \n",
       "\n",
       "                  genre_ids release_date  movie_popularity  vote_average  \\\n",
       "0              [28, 12, 14]   2021-09-01          5884.885           7.9   \n",
       "1             [878, 28, 12]   2021-09-30          5797.863           7.0   \n",
       "2              [12, 28, 53]   2021-09-29          3366.389           7.6   \n",
       "3             [28, 12, 878]   2021-11-03          1746.171           7.1   \n",
       "4               [10749, 18]   2021-09-01          1710.038           7.2   \n",
       "..                      ...          ...               ...           ...   \n",
       "69            [28, 16, 878]   2015-04-18           192.039           6.8   \n",
       "70                 [27, 53]   2021-08-25           188.391           6.3   \n",
       "71  [10751, 16, 14, 12, 35]   2020-08-14           186.863           7.7   \n",
       "72            [12, 28, 878]   2012-01-19           185.102           6.1   \n",
       "73             [28, 53, 80]   2009-04-16           177.734           6.0   \n",
       "\n",
       "    vote_count     budget    revenue rating  \n",
       "0         3428  150000000  430238384  PG-13  \n",
       "1         2452  110000000  454000000  PG-13  \n",
       "2         2075  242000000  734000000  PG-13  \n",
       "3         1170  200000000  336000000  PG-13  \n",
       "4          956   14000000   19000000      R  \n",
       "..         ...        ...        ...    ...  \n",
       "69        1246    5000000   61768190     NR  \n",
       "70         615   25000000   77389310      R  \n",
       "71        2351   60000000    4700000     PG  \n",
       "72        3312   79000000  355692760     PG  \n",
       "73        2132   20000000   34560577      R  \n",
       "\n",
       "[74 rows x 10 columns]"
      ]
     },
     "execution_count": 3,
     "metadata": {},
     "output_type": "execute_result"
    }
   ],
   "source": [
    "# Load the data\n",
    "file_path = Path('../Tables/meta_ml.csv')\n",
    "df = pd.read_csv(file_path)[:-2]\n",
    "# , index_col=0\n",
    "\n",
    "movie_data = pd.read_csv('../Tables/Movie_Data.csv')\n",
    "\n",
    "movie_data"
   ]
  },
  {
   "cell_type": "code",

   "execution_count": 4,


   "id": "3ce21450",

   "metadata": {
    "scrolled": false
   },
   "outputs": [
    {
     "data": {
      "text/html": [
       "<div>\n",
       "<style scoped>\n",
       "    .dataframe tbody tr th:only-of-type {\n",
       "        vertical-align: middle;\n",
       "    }\n",
       "\n",
       "    .dataframe tbody tr th {\n",
       "        vertical-align: top;\n",
       "    }\n",
       "\n",
       "    .dataframe thead th {\n",
       "        text-align: right;\n",
       "    }\n",
       "</style>\n",
       "<table border=\"1\" class=\"dataframe\">\n",
       "  <thead>\n",
       "    <tr style=\"text-align: right;\">\n",
       "      <th></th>\n",
       "      <th>movie_id</th>\n",
       "      <th>title</th>\n",
       "      <th>release_date</th>\n",
       "      <th>movie_popularity</th>\n",
       "      <th>vote_average</th>\n",
       "      <th>vote_count</th>\n",
       "      <th>budget</th>\n",
       "      <th>revenue</th>\n",
       "      <th>ratings</th>\n",
       "      <th>studios</th>\n",
       "      <th>genres</th>\n",
       "      <th>actor_popularity_mean</th>\n",
       "      <th>director_popularity_mean</th>\n",
       "    </tr>\n",
       "  </thead>\n",
       "  <tbody>\n",
       "    <tr>\n",
       "      <th>0</th>\n",
       "      <td>671</td>\n",
       "      <td>Harry Potter and the Philosopher's Stone</td>\n",
       "      <td>2001-11-16</td>\n",
       "      <td>268.472</td>\n",
       "      <td>7.9</td>\n",
       "      <td>21429</td>\n",
       "      <td>125000000</td>\n",
       "      <td>976475550</td>\n",
       "      <td>PG</td>\n",
       "      <td>[''Warner Bros. Pictures'', '' Heyday Films'',...</td>\n",
       "      <td>[''Adventure'', ''Fantasy'']</td>\n",
       "      <td>2.993965</td>\n",
       "      <td>2.566</td>\n",
       "    </tr>\n",
       "    <tr>\n",
       "      <th>1</th>\n",
       "      <td>557</td>\n",
       "      <td>Spider-Man</td>\n",
       "      <td>2002-05-01</td>\n",
       "      <td>480.954</td>\n",
       "      <td>7.2</td>\n",
       "      <td>14421</td>\n",
       "      <td>139000000</td>\n",
       "      <td>821708551</td>\n",
       "      <td>PG-13</td>\n",
       "      <td>[''Other'', '' Columbia Pictures'', '' Sony Pi...</td>\n",
       "      <td>[''Fantasy'', ''Action'']</td>\n",
       "      <td>2.387022</td>\n",
       "      <td>2.914</td>\n",
       "    </tr>\n",
       "    <tr>\n",
       "      <th>2</th>\n",
       "      <td>672</td>\n",
       "      <td>Harry Potter and the Chamber of Secrets</td>\n",
       "      <td>2002-11-13</td>\n",
       "      <td>246.027</td>\n",
       "      <td>7.7</td>\n",
       "      <td>17294</td>\n",
       "      <td>100000000</td>\n",
       "      <td>876688482</td>\n",
       "      <td>PG</td>\n",
       "      <td>[''Warner Bros. Pictures'', '' Heyday Films'',...</td>\n",
       "      <td>[''Adventure'', ''Fantasy'']</td>\n",
       "      <td>2.696712</td>\n",
       "      <td>2.566</td>\n",
       "    </tr>\n",
       "    <tr>\n",
       "      <th>3</th>\n",
       "      <td>673</td>\n",
       "      <td>Harry Potter and the Prisoner of Azkaban</td>\n",
       "      <td>2004-05-31</td>\n",
       "      <td>225.882</td>\n",
       "      <td>8.0</td>\n",
       "      <td>17001</td>\n",
       "      <td>130000000</td>\n",
       "      <td>789804554</td>\n",
       "      <td>PG</td>\n",
       "      <td>[''Warner Bros. Pictures'', '' Other'', '' Hey...</td>\n",
       "      <td>[''Adventure'', ''Fantasy'']</td>\n",
       "      <td>3.523069</td>\n",
       "      <td>3.333</td>\n",
       "    </tr>\n",
       "    <tr>\n",
       "      <th>4</th>\n",
       "      <td>674</td>\n",
       "      <td>Harry Potter and the Goblet of Fire</td>\n",
       "      <td>2005-11-16</td>\n",
       "      <td>244.428</td>\n",
       "      <td>7.8</td>\n",
       "      <td>16341</td>\n",
       "      <td>150000000</td>\n",
       "      <td>895921036</td>\n",
       "      <td>PG-13</td>\n",
       "      <td>[''Warner Bros. Pictures'', '' Heyday Films'',...</td>\n",
       "      <td>[''Adventure'', ''Fantasy'', ''Family'']</td>\n",
       "      <td>3.234944</td>\n",
       "      <td>2.695</td>\n",
       "    </tr>\n",
       "    <tr>\n",
       "      <th>...</th>\n",
       "      <td>...</td>\n",
       "      <td>...</td>\n",
       "      <td>...</td>\n",
       "      <td>...</td>\n",
       "      <td>...</td>\n",
       "      <td>...</td>\n",
       "      <td>...</td>\n",
       "      <td>...</td>\n",
       "      <td>...</td>\n",
       "      <td>...</td>\n",
       "      <td>...</td>\n",
       "      <td>...</td>\n",
       "      <td>...</td>\n",
       "    </tr>\n",
       "    <tr>\n",
       "      <th>67</th>\n",
       "      <td>370172</td>\n",
       "      <td>No Time to Die</td>\n",
       "      <td>2021-09-29</td>\n",
       "      <td>3366.389</td>\n",
       "      <td>7.6</td>\n",
       "      <td>2075</td>\n",
       "      <td>242000000</td>\n",
       "      <td>734000000</td>\n",
       "      <td>PG-13</td>\n",
       "      <td>[''Other'', '' Metro-Goldwyn-Mayer'', '' Other...</td>\n",
       "      <td>[''Adventure'', ''Action'', ''Thriller'']</td>\n",
       "      <td>4.164382</td>\n",
       "      <td>4.167</td>\n",
       "    </tr>\n",
       "    <tr>\n",
       "      <th>68</th>\n",
       "      <td>580489</td>\n",
       "      <td>Venom: Let There Be Carnage</td>\n",
       "      <td>2021-09-30</td>\n",
       "      <td>5797.863</td>\n",
       "      <td>7.0</td>\n",
       "      <td>2452</td>\n",
       "      <td>110000000</td>\n",
       "      <td>454000000</td>\n",
       "      <td>PG-13</td>\n",
       "      <td>[''Marvel Entertainment'', '' Pascal Pictures'...</td>\n",
       "      <td>[''Science Fiction'', ''Action'', ''Adventure'']</td>\n",
       "      <td>4.363038</td>\n",
       "      <td>13.077</td>\n",
       "    </tr>\n",
       "    <tr>\n",
       "      <th>69</th>\n",
       "      <td>610253</td>\n",
       "      <td>Halloween Kills</td>\n",
       "      <td>2021-10-14</td>\n",
       "      <td>616.978</td>\n",
       "      <td>6.9</td>\n",
       "      <td>1251</td>\n",
       "      <td>20000000</td>\n",
       "      <td>127000000</td>\n",
       "      <td>R</td>\n",
       "      <td>[''Universal Pictures'', '' Other'', '' Other'...</td>\n",
       "      <td>[''Horror'', ''Thriller'']</td>\n",
       "      <td>3.464000</td>\n",
       "      <td>2.385</td>\n",
       "    </tr>\n",
       "    <tr>\n",
       "      <th>70</th>\n",
       "      <td>576845</td>\n",
       "      <td>Last Night in Soho</td>\n",
       "      <td>2021-10-21</td>\n",
       "      <td>685.843</td>\n",
       "      <td>7.5</td>\n",
       "      <td>458</td>\n",
       "      <td>43000000</td>\n",
       "      <td>19000000</td>\n",
       "      <td>R</td>\n",
       "      <td>[''Other'', '' Other'', '' Other'', '' Other''...</td>\n",
       "      <td>[''Horror'', ''Mystery'', ''Thriller'']</td>\n",
       "      <td>2.869283</td>\n",
       "      <td>7.468</td>\n",
       "    </tr>\n",
       "    <tr>\n",
       "      <th>71</th>\n",
       "      <td>524434</td>\n",
       "      <td>Eternals</td>\n",
       "      <td>2021-11-03</td>\n",
       "      <td>1746.171</td>\n",
       "      <td>7.1</td>\n",
       "      <td>1170</td>\n",
       "      <td>200000000</td>\n",
       "      <td>336000000</td>\n",
       "      <td>PG-13</td>\n",
       "      <td>['Marvel Studios']</td>\n",
       "      <td>[''Action'', ''Adventure'', ''Science Fiction'']</td>\n",
       "      <td>5.096703</td>\n",
       "      <td>2.397</td>\n",
       "    </tr>\n",
       "  </tbody>\n",
       "</table>\n",
       "<p>72 rows × 13 columns</p>\n",
       "</div>"
      ],
      "text/plain": [
       "    movie_id                                     title release_date  \\\n",
       "0        671  Harry Potter and the Philosopher's Stone   2001-11-16   \n",
       "1        557                                Spider-Man   2002-05-01   \n",
       "2        672   Harry Potter and the Chamber of Secrets   2002-11-13   \n",
       "3        673  Harry Potter and the Prisoner of Azkaban   2004-05-31   \n",
       "4        674       Harry Potter and the Goblet of Fire   2005-11-16   \n",
       "..       ...                                       ...          ...   \n",
       "67    370172                            No Time to Die   2021-09-29   \n",
       "68    580489               Venom: Let There Be Carnage   2021-09-30   \n",
       "69    610253                           Halloween Kills   2021-10-14   \n",
       "70    576845                        Last Night in Soho   2021-10-21   \n",
       "71    524434                                  Eternals   2021-11-03   \n",
       "\n",
       "    movie_popularity  vote_average  vote_count     budget    revenue ratings  \\\n",
       "0            268.472           7.9       21429  125000000  976475550      PG   \n",
       "1            480.954           7.2       14421  139000000  821708551   PG-13   \n",
       "2            246.027           7.7       17294  100000000  876688482      PG   \n",
       "3            225.882           8.0       17001  130000000  789804554      PG   \n",
       "4            244.428           7.8       16341  150000000  895921036   PG-13   \n",
       "..               ...           ...         ...        ...        ...     ...   \n",
       "67          3366.389           7.6        2075  242000000  734000000   PG-13   \n",
       "68          5797.863           7.0        2452  110000000  454000000   PG-13   \n",
       "69           616.978           6.9        1251   20000000  127000000       R   \n",
       "70           685.843           7.5         458   43000000   19000000       R   \n",
       "71          1746.171           7.1        1170  200000000  336000000   PG-13   \n",
       "\n",
       "                                              studios  \\\n",
       "0   [''Warner Bros. Pictures'', '' Heyday Films'',...   \n",
       "1   [''Other'', '' Columbia Pictures'', '' Sony Pi...   \n",
       "2   [''Warner Bros. Pictures'', '' Heyday Films'',...   \n",
       "3   [''Warner Bros. Pictures'', '' Other'', '' Hey...   \n",
       "4   [''Warner Bros. Pictures'', '' Heyday Films'',...   \n",
       "..                                                ...   \n",
       "67  [''Other'', '' Metro-Goldwyn-Mayer'', '' Other...   \n",
       "68  [''Marvel Entertainment'', '' Pascal Pictures'...   \n",
       "69  [''Universal Pictures'', '' Other'', '' Other'...   \n",
       "70  [''Other'', '' Other'', '' Other'', '' Other''...   \n",
       "71                                 ['Marvel Studios']   \n",
       "\n",
       "                                              genres  actor_popularity_mean  \\\n",
       "0                       [''Adventure'', ''Fantasy'']               2.993965   \n",
       "1                          [''Fantasy'', ''Action'']               2.387022   \n",
       "2                       [''Adventure'', ''Fantasy'']               2.696712   \n",
       "3                       [''Adventure'', ''Fantasy'']               3.523069   \n",
       "4           [''Adventure'', ''Fantasy'', ''Family'']               3.234944   \n",
       "..                                               ...                    ...   \n",
       "67         [''Adventure'', ''Action'', ''Thriller'']               4.164382   \n",
       "68  [''Science Fiction'', ''Action'', ''Adventure'']               4.363038   \n",
       "69                        [''Horror'', ''Thriller'']               3.464000   \n",
       "70           [''Horror'', ''Mystery'', ''Thriller'']               2.869283   \n",
       "71  [''Action'', ''Adventure'', ''Science Fiction'']               5.096703   \n",
       "\n",
       "    director_popularity_mean  \n",
       "0                      2.566  \n",
       "1                      2.914  \n",
       "2                      2.566  \n",
       "3                      3.333  \n",
       "4                      2.695  \n",
       "..                       ...  \n",
       "67                     4.167  \n",
       "68                    13.077  \n",
       "69                     2.385  \n",
       "70                     7.468  \n",
       "71                     2.397  \n",
       "\n",
       "[72 rows x 13 columns]"
      ]
     },

     "execution_count": 4,

     "metadata": {},
     "output_type": "execute_result"
    }
   ],
   "source": [
    "df"
   ]
  },
  {
   "cell_type": "code",

   "execution_count": 5,
   "id": "79d36195",
   "metadata": {
    "scrolled": true
   },
   "outputs": [
    {
     "data": {
      "text/plain": [
       "movie_id                      int64\n",
       "title                        object\n",
       "release_date                 object\n",
       "movie_popularity            float64\n",
       "vote_average                float64\n",
       "vote_count                    int64\n",
       "budget                        int64\n",
       "revenue                       int64\n",
       "ratings                      object\n",
       "studios                      object\n",
       "genres                       object\n",
       "actor_popularity_mean       float64\n",
       "director_popularity_mean    float64\n",
       "dtype: object"
      ]
     },

     "execution_count": 5,
     "metadata": {},
     "output_type": "execute_result"
    }
   ],
   "source": [
    "df.dtypes"
   ]
  },
  {
   "cell_type": "code",
   "execution_count": 6,
   "id": "2bf222d1",
   "metadata": {},
   "outputs": [],
   "source": [
    "# Encoded Age Ratings\n",
    "ratings_enc = {\n",
    "    'G': 1,\n",
    "    'PG': 2,\n",
    "    'PG-13': 3,\n",
    "    'R': 4,\n",
    "    'NC-17': 5,\n",
    "    'NR':6\n",
    "}\n",
    "\n",
    "df['ratings_enc'] = df['ratings'].apply(lambda x: ratings_enc[x])"
   ]
  },
  {
   "cell_type": "code",

   "execution_count": 16,
   "id": "bad6a25e",
   "metadata": {},
   "outputs": [
    {

     "name": "stdout",
     "output_type": "stream",
     "text": [
      "0     [''Warner Bros. Pictures'', '' Heyday Films'',...\n",
      "1     [''Other'', '' Columbia Pictures'', '' Sony Pi...\n",
      "2     [''Warner Bros. Pictures'', '' Heyday Films'',...\n",
      "3     [''Warner Bros. Pictures'', '' Other'', '' Hey...\n",
      "4     [''Warner Bros. Pictures'', '' Heyday Films'',...\n",
      "                            ...                        \n",
      "67    [''Other'', '' Metro-Goldwyn-Mayer'', '' Other...\n",
      "68    [''Marvel Entertainment'', '' Pascal Pictures'...\n",
      "69    [''Universal Pictures'', '' Other'', '' Other'...\n",
      "70    [''Other'', '' Other'', '' Other'', '' Other''...\n",
      "71                                   ['Marvel Studios']\n",
      "Name: studios, Length: 72, dtype: object\n"

     ]
    }
   ],
   "source": [

    "df['release_month'] = pd.DatetimeIndex(df['release_date']).month\n",
    "for lst in df['studios']:\n",
    "    holder = []\n",
    "    for studio in lst:\n",
    "        if studio not in holder:\n",
    "            holder.append(studio)\n",
    "    lst = holder\n",
    "print(df['studios'])"

   ]
  },
  {
   "cell_type": "code",
   "execution_count": null,
   "id": "3f9a9f67",
   "metadata": {
    "scrolled": false
   },
   "outputs": [],
   "source": [
    "df = df.drop(['movie_id', 'release_date', 'title', 'ratings'], axis=1)\n",
    "df = df.drop(['studios', 'genres'], axis=1)\n",
    "df.head()"
   ]
  },
  {
   "cell_type": "code",
   "execution_count": null,
   "id": "a0f103a8",
   "metadata": {},
   "outputs": [],
   "source": [
    "# data_scaler = StandardScaler()"
   ]
  },
  {
   "cell_type": "code",
   "execution_count": null,
   "id": "c34f6e3b",
   "metadata": {},
   "outputs": [],
   "source": [
    "# data_scaled = data_scaler.fit_transform(df)"
   ]
  },
  {
   "cell_type": "code",
   "execution_count": null,
   "id": "363c215e",
   "metadata": {},
   "outputs": [],
   "source": [
    "# data_scaled[:5]"
   ]
  },
  {
   "cell_type": "code",
   "execution_count": null,
   "id": "b50d7c20",
   "metadata": {},
   "outputs": [],
   "source": [
    "# print(np.mean(data_scaled[:,0]))\n",
    "# print(np.std(data_scaled[:,0]))"
   ]
  },
  {
   "cell_type": "code",
   "execution_count": null,
   "id": "0b18ecac",
   "metadata": {},
   "outputs": [],
   "source": [
    "# # Create our features\n",
    "# X = pd.get_dummies(df.drop('revenue', axis=1))\n",
    "\n",
    "# # Create our target\n",
    "# y = pd.get_dummies(df['revenue'])"
   ]
  },
  {
   "cell_type": "code",
   "execution_count": null,
   "id": "556d38ee",
   "metadata": {},
   "outputs": [],
   "source": [
    "# X.describe()"
   ]
  },
  {
   "cell_type": "code",
   "execution_count": null,
   "id": "eb504574",
   "metadata": {},
   "outputs": [],
   "source": [
    "# Create our features\n",
    "X = df.drop(['revenue'], axis=1)\n",
    "\n",
    "y = df[['revenue']].values"
   ]
  },
  {
   "cell_type": "code",
   "execution_count": null,
   "id": "5a373387",
   "metadata": {
    "scrolled": false
   },
   "outputs": [],
   "source": [
    "# y[:5]"
   ]
  },
  {
   "cell_type": "code",
   "execution_count": null,
   "id": "e0498007",
   "metadata": {},
   "outputs": [],
   "source": [
    "X_train, X_test, y_train, y_test = train_test_split(X, y, random_state=50)"
   ]
  },
  {
   "cell_type": "code",
   "execution_count": null,
   "id": "0193e70b",
   "metadata": {},
   "outputs": [],
   "source": [
    "# creating an object of LinearRegression class\n",
    "LR = LinearRegression()\n",
    "# fitting the training data\n",
    "LR.fit(X_train,y_train)"
   ]
  },
  {
   "cell_type": "code",
   "execution_count": null,
   "id": "1d28e747",
   "metadata": {},
   "outputs": [],
   "source": [
    "y_prediction =  LR.predict(X_test)\n",
    "y_prediction"
   ]
  },
  {
   "cell_type": "code",
   "execution_count": null,
   "id": "d27cfa61",
   "metadata": {},
   "outputs": [],
   "source": [
    "from sklearn.metrics import r2_score\n",
    "from sklearn.metrics import mean_squared_error\n",
    "# predicting the accuracy score\n",
    "score=r2_score(y_test,y_prediction)\n",
    "print('r2 score is ',score)\n",
    "print('mean_sqrd_error is==',mean_squared_error(y_test,y_prediction))\n",
    "print('root_mean_squared error of is==',np.sqrt(mean_squared_error(y_test,y_prediction)))"
   ]
  },
  {
   "cell_type": "code",
   "execution_count": null,
   "id": "e835b1b4",
   "metadata": {},
   "outputs": [],
   "source": [
    "# Determine the shape of our training and testing sets.\n",
    "print(X_train.shape)\n",
    "print(X_test.shape)\n",
    "print(y_train.shape)\n",
    "print(y_test.shape)"
   ]
  },
  {
   "cell_type": "code",
   "execution_count": null,
   "id": "9c4c832c",
   "metadata": {},
   "outputs": [],
   "source": [
    "# # Creating a StandardScaler instance.\n",
    "# scaler = StandardScaler()\n",
    "# # Fitting the Standard Scaler with the training data.\n",
    "# X_scaler = scaler.fit(X_train)\n",
    "\n",
    "# # Scaling the data.\n",
    "# X_train_scaled = X_scaler.transform(X_train)\n",
    "# X_test_scaled = X_scaler.transform(X_test)"
   ]
  },
  {
   "cell_type": "code",
   "execution_count": null,
   "id": "77053990",
   "metadata": {},
   "outputs": [],
   "source": [
    "# # Creating the decision tree classifier instance.\n",
    "# model = tree.DecisionTreeClassifier()\n",
    "# # Fitting the model.\n",
    "# model = model.fit(X_train_scaled, y_train)"
   ]
  },
  {
   "cell_type": "code",
   "execution_count": null,
   "id": "9e6ef62e",
   "metadata": {},
   "outputs": [],
   "source": [
    "# # Making predictions using the testing data.\n",
    "# predictions = model.predict(X_test_scaled)\n",
    "\n",
    "# predictions"
   ]
  },
  {
   "cell_type": "code",
   "execution_count": null,
   "id": "6813c072",
   "metadata": {
    "scrolled": true
   },
   "outputs": [],
   "source": [
    "X.info()"
   ]
  },
  {
   "cell_type": "code",
   "execution_count": null,
   "id": "b542ae72",
   "metadata": {},
   "outputs": [],
   "source": [
    "columns = X.columns\n",
    "columns"
   ]
  },
  {
   "cell_type": "code",
   "execution_count": null,
   "id": "4576ddd0",
   "metadata": {},
   "outputs": [],
   "source": [
    "X.head()"
   ]
  },
  {
   "cell_type": "code",
   "execution_count": null,
   "id": "164e7e21",
   "metadata": {
    "scrolled": true
   },
   "outputs": [],
   "source": [
    "X.describe()"
   ]
  },
  {
   "cell_type": "code",
   "execution_count": null,
   "id": "76421056",
   "metadata": {},
   "outputs": [],
   "source": [
    "len(y)"
   ]
  },
  {
   "cell_type": "code",
   "execution_count": null,
   "id": "5515b04d",
   "metadata": {
    "scrolled": false
   },
   "outputs": [],
   "source": [
    "# plt.figure(figsize=(15, 10))\n",
    "# plt.scatter(X, y_prediction, alpha=0.5)\n",
    "# plt.title('How Variables Can Effect Movie Revenue')\n",
    "# plt.xlabel('Various Variables')\n",
    "# plt.ylabel('Box Office Success')\n",
    "# plt.ylim(0,3000000000)\n",
    "# plt.xlim(0,3000000000)\n",
    "# plt.show"
   ]
  },
  {
   "cell_type": "code",
   "execution_count": null,
   "id": "dbff84f3",
   "metadata": {},
   "outputs": [],
   "source": [
    "test = df.plot.scatter(y='revenue', x=['movie_popularity'], c='r')\n",
    "test = df.plot.scatter(y='revenue', x=['vote_average'], c='b')\n",
    "test = df.plot.scatter(y='revenue', x=['vote_count'], c='g')\n",
    "test = df.plot.scatter(y='revenue', x=['budget'], c='y')\n",
    "test = df.plot.scatter(y='revenue', x=['actor_popularity_mean'], c='orange')\n",
    "test = df.plot.scatter(y='revenue', x=['director_popularity_mean'], c='teal')\n",
    "test = df.plot.scatter(y='revenue', x=['ratings_enc'], c='purple')\n",
    "test = df.plot.scatter(y='revenue', x=['release_month'], c='pink')"
   ]
  },
  {
   "cell_type": "code",
   "execution_count": null,
   "id": "3e6e3dc6",
   "metadata": {
    "scrolled": true
   },
   "outputs": [],
   "source": [
    "test.show()"
   ]
  },
  {
   "cell_type": "code",
   "execution_count": null,
   "id": "26a0fee3",
   "metadata": {},
   "outputs": [],
   "source": []
  }
 ],
 "metadata": {
  "kernelspec": {
   "display_name": "mlenv",
   "language": "python",
   "name": "mlenv"
  },
  "language_info": {
   "codemirror_mode": {
    "name": "ipython",
    "version": 3
   },
   "file_extension": ".py",
   "mimetype": "text/x-python",
   "name": "python",
   "nbconvert_exporter": "python",
   "pygments_lexer": "ipython3",
   "version": "3.7.10"
  }
 },
 "nbformat": 4,
 "nbformat_minor": 5
}

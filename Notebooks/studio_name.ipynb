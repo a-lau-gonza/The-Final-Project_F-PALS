{
 "cells": [
  {
   "cell_type": "code",
   "execution_count": 1,
   "metadata": {},
   "outputs": [],
   "source": [
    "# GET ALL Company ID's into Dataframe using Movie ID, Use MOVIEID as INDEX for dataframe.\n",
    "# Use freddie's code to get list of popular movies, iterate through movie_detail using movie ID, pull out company (studio) names"
   ]
  },
  {
   "cell_type": "code",
   "execution_count": 2,
   "metadata": {},
   "outputs": [],
   "source": [
    "import requests\n",
    "import pandas as pd\n",
    "from API_Key import api_key\n",
    "titleNid = pd.read_csv(\"../Tables/titleNid.csv\")"
   ]
  },
  {
   "cell_type": "code",
   "execution_count": 3,
   "metadata": {},
   "outputs": [],
   "source": [
    "studio = pd.DataFrame()\n",
    "id_for_movie = []"
   ]
  },
  {
   "cell_type": "code",
   "execution_count": 4,
   "metadata": {},
   "outputs": [],
   "source": [
    "for id in titleNid['movie_id']:\n",
    "    movieDetail = requests.get(f'https://api.themoviedb.org/3/movie/{id}?api_key={api_key}&language=en-US').json()\n",
    "    for movie in movieDetail['production_companies']:\n",
    "        studio = studio.append(movie, ignore_index=True)\n",
    "        id_for_movie.append(id)"
   ]
  },
  {
   "cell_type": "code",
   "execution_count": 5,
   "metadata": {},
   "outputs": [],
   "source": [
    "studio['movie_id'] = id_for_movie"
   ]
  },
  {
   "cell_type": "code",
   "execution_count": 6,
   "metadata": {},
   "outputs": [],
   "source": [
    "studio= studio.drop(columns=['logo_path'])"
   ]
  },
  {
   "cell_type": "code",
   "execution_count": 7,
   "metadata": {},
   "outputs": [],
   "source": [
    "studio = studio.rename(columns={'id': 'studio_id', 'name':'studio_name'})"
   ]
  },
  {
   "cell_type": "code",
   "execution_count": 8,
   "metadata": {},
   "outputs": [],
   "source": [
    "studio.to_csv('../Tables/Studios.csv', index=False)"
   ]
  },
  {
   "cell_type": "code",
   "execution_count": null,
   "metadata": {},
   "outputs": [],
   "source": []
  }
 ],
 "metadata": {
  "interpreter": {
   "hash": "5eb2ff549990ae486b1e0ba24f21fb5fbea9cd320f660ab790b9a14871923349"
  },
  "kernelspec": {
   "display_name": "Python 3",
   "language": "python",
   "name": "python3"
  },
  "language_info": {
   "codemirror_mode": {
    "name": "ipython",
    "version": 3
   },
   "file_extension": ".py",
   "mimetype": "text/x-python",
   "name": "python",
   "nbconvert_exporter": "python",
   "pygments_lexer": "ipython3",
   "version": "3.7.10"
  }
 },
 "nbformat": 4,
 "nbformat_minor": 2
}

{
 "cells": [
  {
   "cell_type": "code",
   "execution_count": null,
   "id": "037ca853",
   "metadata": {},
   "outputs": [],
   "source": [
    "import requests\n",
    "import pandas as pd\n",
    "from API_Key import api_key\n",
    "\n",
    "upcoming_movies = pd.DataFrame()\n",
    "\n",
    "for page in pages:\n",
    "    movieData = pd.DataFrame(requests.get(f'https://api.themoviedb.org/3/movie/upcoming?api_key={api_key}&language=en-US&page={page}').json()['results'])\n",
    "    upcoming_movies = upcoming_movies.append(movieData)\n",
    "\n",
    "upcoming_movies.head()\n",
    "\n",
    "upcoming_movies = upcoming_movies[upcoming_movies['adult'] == False]\n",
    "\n",
    "title_release = upcoming_movies[['release_date','title']]\n",
    "\n",
    "title_release = title_release.reset_index(drop = True)\n",
    "upcoming_movies.head()"
   ]
  },
  {
   "cell_type": "code",
   "execution_count": null,
   "id": "f750855b",
   "metadata": {},
   "outputs": [],
   "source": [
    "upcoming_features = movieData[['id','title','release_date','popularity','vote_average','vote_count']]\n",
    "upcoming_features = upcoming_features.rename(columns={\n",
    "                                        \"id\":\"movie_id\",\n",
    "                                        \"popularity\":\"popular\",\"release_date\":\"upcoming\"\n",
    "                                        })\n",
    "upcoming_movies.head()"
   ]
  },
  {
   "cell_type": "code",
   "execution_count": null,
   "id": "c196192d",
   "metadata": {},
   "outputs": [],
   "source": [
    "upcoming_movies = upcoming_movies.rename(columns={\"id\":'movie_id',\n",
    "                                        \"popularity\":'popular',\"release_date\":'upcoming'})"
   ]
  },
  {
   "cell_type": "code",
   "execution_count": null,
   "id": "0b5d4b98",
   "metadata": {},
   "outputs": [],
   "source": [
    "upcoming_movies.to_csv('Tables/upcoming_movies.csv',index = False)"
   ]
  },
  {
   "cell_type": "code",
   "execution_count": null,
   "id": "0a4f4982",
   "metadata": {},
   "outputs": [],
   "source": [
    "upcoming_movies.shape\n"
   ]
  },
  {
   "cell_type": "code",
   "execution_count": null,
   "id": "adce32d6",
   "metadata": {},
   "outputs": [],
   "source": [
    "upcoming_movies.head()"
   ]
  },
  {
   "cell_type": "code",
   "execution_count": null,
   "id": "5780bade",
   "metadata": {},
   "outputs": [],
   "source": []
  }
 ],
 "metadata": {
  "kernelspec": {
   "display_name": "PythonData",
   "language": "python",
   "name": "pythondata"
  },
  "language_info": {
   "codemirror_mode": {
    "name": "ipython",
    "version": 3
   },
   "file_extension": ".py",
   "mimetype": "text/x-python",
   "name": "python",
   "nbconvert_exporter": "python",
   "pygments_lexer": "ipython3",
   "version": "3.8.8"
  }
 },
 "nbformat": 4,
 "nbformat_minor": 5
}

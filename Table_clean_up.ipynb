{
 "cells": [
  {
   "cell_type": "code",
   "execution_count": null,
   "id": "d029d0c4",
   "metadata": {},
   "outputs": [],
   "source": [
    "import pandas as pd"
   ]
  },
  {
   "cell_type": "code",
   "execution_count": null,
   "id": "f1ceb787",
   "metadata": {},
   "outputs": [],
   "source": [
    "actors = pd.read_csv(\"Tables/actors.csv\")\n",
    "directors = pd.read_csv('Tables/actors.csv')\n",
    "actors"
   ]
  },
  {
   "cell_type": "code",
   "execution_count": null,
   "id": "f9510c7f",
   "metadata": {},
   "outputs": [],
   "source": [
    "actors = actors.drop('Unnamed: 0', 1)\n",
    "actors"
   ]
  },
  {
   "cell_type": "code",
   "execution_count": null,
   "id": "12d06978",
   "metadata": {},
   "outputs": [],
   "source": [
    "directors = directors.drop(\"Unnamed: 0\",1)\n",
    "directors"
   ]
  },
  {
   "cell_type": "code",
   "execution_count": null,
   "id": "e9d87941",
   "metadata": {},
   "outputs": [],
   "source": [
    "actors.to_csv('Tables/actors.csv', index = False)\n",
    "directors.to_csv('Tables/directors.csv', index = False)"
   ]
  }
 ],
 "metadata": {
  "kernelspec": {
   "display_name": "PythonData",
   "language": "python",
   "name": "pythondata"
  },
  "language_info": {
   "codemirror_mode": {
    "name": "ipython",
    "version": 3
   },
   "file_extension": ".py",
   "mimetype": "text/x-python",
   "name": "python",
   "nbconvert_exporter": "python",
   "pygments_lexer": "ipython3",
   "version": "3.8.8"
  }
 },
 "nbformat": 4,
 "nbformat_minor": 5
}

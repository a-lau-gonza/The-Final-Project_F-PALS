{
 "cells": [
  {
   "cell_type": "code",
   "execution_count": 1,
   "metadata": {},
   "outputs": [],
   "source": [
    "# GET ALL Company ID's into Dataframe using Movie ID, Use MOVIEID as INDEX for dataframe.\n",
    "# Use freddie's code to get list of popular movies, iterate through movie_detail using movie ID, pull out company (studio) names"
   ]
  },
  {
   "cell_type": "code",
   "execution_count": 2,
   "metadata": {},
   "outputs": [],
   "source": [
    "import requests\n",
    "import pandas as pd\n",
    "from API_Key import api_key\n",
    "titleNid = pd.read_csv(\"Tables/titleNid.csv\")"
   ]
  },
  {
   "cell_type": "code",
   "execution_count": 3,
   "metadata": {},
   "outputs": [],
   "source": [
    "studio = pd.DataFrame()\n",
    "id_for_movie = []"
   ]
  },
  {
   "cell_type": "code",
   "execution_count": 4,
   "metadata": {},
   "outputs": [],
   "source": [
    "for id in titleNid['movie_id']:\n",
    "    movieDetail = requests.get(f'https://api.themoviedb.org/3/movie/{id}?api_key={api_key}&language=en-US').json()\n",
    "    for movie in movieDetail['production_companies']:\n",
    "        studio = studio.append(movie, ignore_index=True)\n",
    "        id_for_movie.append(id)"
   ]
  },
  {
   "cell_type": "code",
   "execution_count": 5,
   "metadata": {},
   "outputs": [
    {
     "data": {
      "text/html": [
       "<div>\n",
       "<style scoped>\n",
       "    .dataframe tbody tr th:only-of-type {\n",
       "        vertical-align: middle;\n",
       "    }\n",
       "\n",
       "    .dataframe tbody tr th {\n",
       "        vertical-align: top;\n",
       "    }\n",
       "\n",
       "    .dataframe thead th {\n",
       "        text-align: right;\n",
       "    }\n",
       "</style>\n",
       "<table border=\"1\" class=\"dataframe\">\n",
       "  <thead>\n",
       "    <tr style=\"text-align: right;\">\n",
       "      <th></th>\n",
       "      <th>id</th>\n",
       "      <th>logo_path</th>\n",
       "      <th>name</th>\n",
       "      <th>origin_country</th>\n",
       "      <th>movie_id</th>\n",
       "    </tr>\n",
       "  </thead>\n",
       "  <tbody>\n",
       "    <tr>\n",
       "      <th>0</th>\n",
       "      <td>420.0</td>\n",
       "      <td>/hUzeosd33nzE5MCNsZxCGEKTXaQ.png</td>\n",
       "      <td>Marvel Studios</td>\n",
       "      <td>US</td>\n",
       "      <td>566525</td>\n",
       "    </tr>\n",
       "    <tr>\n",
       "      <th>1</th>\n",
       "      <td>7576.0</td>\n",
       "      <td>/oYcUi1byZ312Z3xiz5ojz9RQLND.png</td>\n",
       "      <td>Eon Productions</td>\n",
       "      <td>GB</td>\n",
       "      <td>370172</td>\n",
       "    </tr>\n",
       "    <tr>\n",
       "      <th>2</th>\n",
       "      <td>21.0</td>\n",
       "      <td>/aOWKh4gkNrfFZ3Ep7n0ckPhoGb5.png</td>\n",
       "      <td>Metro-Goldwyn-Mayer</td>\n",
       "      <td>US</td>\n",
       "      <td>370172</td>\n",
       "    </tr>\n",
       "    <tr>\n",
       "      <th>3</th>\n",
       "      <td>60.0</td>\n",
       "      <td>/oJXpAs4I3W46e4dkaOEzCa4yBko.png</td>\n",
       "      <td>United Artists</td>\n",
       "      <td>US</td>\n",
       "      <td>370172</td>\n",
       "    </tr>\n",
       "    <tr>\n",
       "      <th>4</th>\n",
       "      <td>33.0</td>\n",
       "      <td>/8lvHyhjr8oUKOOy2dKXoALWKdp0.png</td>\n",
       "      <td>Universal Pictures</td>\n",
       "      <td>US</td>\n",
       "      <td>370172</td>\n",
       "    </tr>\n",
       "    <tr>\n",
       "      <th>...</th>\n",
       "      <td>...</td>\n",
       "      <td>...</td>\n",
       "      <td>...</td>\n",
       "      <td>...</td>\n",
       "      <td>...</td>\n",
       "    </tr>\n",
       "    <tr>\n",
       "      <th>677</th>\n",
       "      <td>4859.0</td>\n",
       "      <td>/wOF6aAYFE5BQryYyaMdQPqUWYwt.png</td>\n",
       "      <td>Nickelodeon Animation Studio</td>\n",
       "      <td>US</td>\n",
       "      <td>410113</td>\n",
       "    </tr>\n",
       "    <tr>\n",
       "      <th>678</th>\n",
       "      <td>2348.0</td>\n",
       "      <td>/m31fQvZJuUvAgxoqTiCGYFBfZYe.png</td>\n",
       "      <td>Nickelodeon Movies</td>\n",
       "      <td>US</td>\n",
       "      <td>410113</td>\n",
       "    </tr>\n",
       "    <tr>\n",
       "      <th>679</th>\n",
       "      <td>3491.0</td>\n",
       "      <td>/6ZtXJZsAJ4sQNM35ts1G3JeXaBQ.png</td>\n",
       "      <td>Showbox</td>\n",
       "      <td>KR</td>\n",
       "      <td>623135</td>\n",
       "    </tr>\n",
       "    <tr>\n",
       "      <th>680</th>\n",
       "      <td>121898.0</td>\n",
       "      <td>None</td>\n",
       "      <td>The Tower Pictures</td>\n",
       "      <td>KR</td>\n",
       "      <td>623135</td>\n",
       "    </tr>\n",
       "    <tr>\n",
       "      <th>681</th>\n",
       "      <td>6125.0</td>\n",
       "      <td>/tVPmo07IHhBs4HuilrcV0yujsZ9.png</td>\n",
       "      <td>Walt Disney Animation Studios</td>\n",
       "      <td>US</td>\n",
       "      <td>741074</td>\n",
       "    </tr>\n",
       "  </tbody>\n",
       "</table>\n",
       "<p>682 rows × 5 columns</p>\n",
       "</div>"
      ],
      "text/plain": [
       "           id                         logo_path  \\\n",
       "0       420.0  /hUzeosd33nzE5MCNsZxCGEKTXaQ.png   \n",
       "1      7576.0  /oYcUi1byZ312Z3xiz5ojz9RQLND.png   \n",
       "2        21.0  /aOWKh4gkNrfFZ3Ep7n0ckPhoGb5.png   \n",
       "3        60.0  /oJXpAs4I3W46e4dkaOEzCa4yBko.png   \n",
       "4        33.0  /8lvHyhjr8oUKOOy2dKXoALWKdp0.png   \n",
       "..        ...                               ...   \n",
       "677    4859.0  /wOF6aAYFE5BQryYyaMdQPqUWYwt.png   \n",
       "678    2348.0  /m31fQvZJuUvAgxoqTiCGYFBfZYe.png   \n",
       "679    3491.0  /6ZtXJZsAJ4sQNM35ts1G3JeXaBQ.png   \n",
       "680  121898.0                              None   \n",
       "681    6125.0  /tVPmo07IHhBs4HuilrcV0yujsZ9.png   \n",
       "\n",
       "                              name origin_country  movie_id  \n",
       "0                   Marvel Studios             US    566525  \n",
       "1                  Eon Productions             GB    370172  \n",
       "2              Metro-Goldwyn-Mayer             US    370172  \n",
       "3                   United Artists             US    370172  \n",
       "4               Universal Pictures             US    370172  \n",
       "..                             ...            ...       ...  \n",
       "677   Nickelodeon Animation Studio             US    410113  \n",
       "678             Nickelodeon Movies             US    410113  \n",
       "679                        Showbox             KR    623135  \n",
       "680             The Tower Pictures             KR    623135  \n",
       "681  Walt Disney Animation Studios             US    741074  \n",
       "\n",
       "[682 rows x 5 columns]"
      ]
     },
     "execution_count": 5,
     "metadata": {},
     "output_type": "execute_result"
    }
   ],
   "source": [
    "studio['movie_id'] = id_for_movie"
   ]
  },
  {
   "cell_type": "code",
   "execution_count": 6,
   "metadata": {},
   "outputs": [],
   "source": [
    "studio= studio.drop(columns=['logo_path'])"
   ]
  },
  {
   "cell_type": "code",
   "execution_count": 7,
   "metadata": {},
   "outputs": [],
   "source": [
    "studio = studio.rename(columns={'id': 'studio_id', 'name':'studio_name'})"
   ]
  },
  {
   "cell_type": "code",
   "execution_count": 8,
   "metadata": {},
   "outputs": [],
   "source": [
    "studio.to_csv('Tables/Studios.csv', index=False)"
   ]
  },
  {
   "cell_type": "code",
   "execution_count": null,
   "metadata": {},
   "outputs": [],
   "source": []
  }
 ],
 "metadata": {
  "interpreter": {
   "hash": "5eb2ff549990ae486b1e0ba24f21fb5fbea9cd320f660ab790b9a14871923349"
  },
  "kernelspec": {
   "display_name": "Python 3 (ipykernel)",
   "language": "python",
   "name": "python3"
  },
  "language_info": {
   "codemirror_mode": {
    "name": "ipython",
    "version": 3
   },
   "file_extension": ".py",
   "mimetype": "text/x-python",
   "name": "python",
   "nbconvert_exporter": "python",
   "pygments_lexer": "ipython3",
   "version": "3.8.8"
  }
 },
 "nbformat": 4,
 "nbformat_minor": 2
}
